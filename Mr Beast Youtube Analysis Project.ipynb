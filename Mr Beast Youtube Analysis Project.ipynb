{
 "cells": [
  {
   "cell_type": "code",
   "execution_count": 1,
   "id": "96f0e054-af19-486d-8041-059b94cfb27e",
   "metadata": {},
   "outputs": [],
   "source": [
    "import pandas as pd\n",
    "import numpy as np\n",
    "import seaborn as sns\n",
    "import matplotlib as mpl \n"
   ]
  },
  {
   "cell_type": "code",
   "execution_count": 2,
   "id": "d66a834b-6d82-400b-9107-e1d0f7a51c10",
   "metadata": {},
   "outputs": [],
   "source": [
    "#Reading in data\n",
    "df=pd.read_csv(\"MrBeast_youtube_stats.csv\")\n",
    "#df.head(2)"
   ]
  },
  {
   "cell_type": "code",
   "execution_count": 3,
   "id": "8a039fd1-18f9-464c-b34c-8e909cefd7de",
   "metadata": {},
   "outputs": [
    {
     "data": {
      "text/plain": [
       "Index(['id', 'title', 'description', 'publishTime', 'kind_stats',\n",
       "       'duration_seconds', 'viewCount', 'likeCount', 'commentCount',\n",
       "       'thumbnails.default.url', 'thumbnails.default.width',\n",
       "       'thumbnails.default.height', 'thumbnails.medium.url',\n",
       "       'thumbnails.medium.width', 'thumbnails.medium.height',\n",
       "       'thumbnails.high.url', 'thumbnails.high.width',\n",
       "       'thumbnails.high.height', 'contentDetails.duration',\n",
       "       'contentDetails.dimension', 'topicDetails.topicCategories',\n",
       "       'snippet.defaultLanguage', 'localizations.en.title',\n",
       "       'localizations.en.description', 'snippet.tags',\n",
       "       'contentDetails.contentRating.ytRating'],\n",
       "      dtype='object')"
      ]
     },
     "execution_count": 3,
     "metadata": {},
     "output_type": "execute_result"
    }
   ],
   "source": [
    "df.columns"
   ]
  },
  {
   "cell_type": "code",
   "execution_count": 4,
   "id": "72f5d708-b474-4210-811b-28d3b06797c6",
   "metadata": {},
   "outputs": [],
   "source": [
    "df= df[[#'id', \n",
    "    'title', #'description',\n",
    "    'publishTime', #'kind_stats', \n",
    "    'duration_seconds', 'viewCount', 'likeCount', 'commentCount',\n",
    "      # 'thumbnails.default.url', 'thumbnails.default.width',\n",
    "       #'thumbnails.default.height', 'thumbnails.medium.url',\n",
    "       #'thumbnails.medium.width', 'thumbnails.medium.height',\n",
    "       #'thumbnails.high.url', 'thumbnails.high.width',\n",
    "       #'thumbnails.high.height', 'contentDetails.duration',\n",
    "       #'contentDetails.dimension', 'topicDetails.topicCategories',\n",
    "       #'snippet.defaultLanguage', 'localizations.en.title',\n",
    "       #'localizations.en.description', 'snippet.tags',\n",
    "      # 'contentDetails.contentRating.ytRating'\n",
    "]]"
   ]
  },
  {
   "cell_type": "code",
   "execution_count": 5,
   "id": "f7b9b3ef-0cd9-4b93-bfa7-01437cce9499",
   "metadata": {},
   "outputs": [],
   "source": [
    "#Renaming Columns\n",
    "df=df.rename(columns={'title':'Title', 'publishTime':'PublishTime', 'duration_seconds':'Duration_Seconds', 'viewCount':'ViewCount',\n",
    "       'likeCount':'LikeCount', 'commentCount':'CommentCount'})"
   ]
  },
  {
   "cell_type": "code",
   "execution_count": 6,
   "id": "d6c10708-5ed9-47df-87ae-bc5d5f0a50c7",
   "metadata": {},
   "outputs": [
    {
     "data": {
      "text/plain": [
       "Title                object\n",
       "PublishTime          object\n",
       "Duration_Seconds      int64\n",
       "ViewCount           float64\n",
       "LikeCount           float64\n",
       "CommentCount        float64\n",
       "dtype: object"
      ]
     },
     "execution_count": 6,
     "metadata": {},
     "output_type": "execute_result"
    }
   ],
   "source": [
    "#PublishTime is object. Change to date \n",
    "df.dtypes"
   ]
  },
  {
   "cell_type": "code",
   "execution_count": 7,
   "id": "d2821ae6-4fc5-4e54-bc29-3e1a9aa91def",
   "metadata": {},
   "outputs": [],
   "source": [
    "#changing from object to time\n",
    "df['PublishTime']=pd.to_datetime(df['PublishTime'])"
   ]
  },
  {
   "cell_type": "code",
   "execution_count": 8,
   "id": "c423c551-fba3-40ca-a36f-c71d86415439",
   "metadata": {},
   "outputs": [],
   "source": [
    "#selecting non duplicated data\n",
    "df=df.loc[~df.duplicated(subset=['Title', 'PublishTime', 'Duration_Seconds', 'ViewCount', 'LikeCount',\n",
    "       'CommentCount'])]"
   ]
  },
  {
   "cell_type": "code",
   "execution_count": 9,
   "id": "a050b90d-351a-443c-a56b-fce49cc669a5",
   "metadata": {},
   "outputs": [],
   "source": [
    "#Dropping row NaN\n",
    "df=df.drop([2], axis=0,)"
   ]
  },
  {
   "cell_type": "code",
   "execution_count": 10,
   "id": "3805c225-ee76-487f-af08-709bf24f1cae",
   "metadata": {},
   "outputs": [
    {
     "data": {
      "text/html": [
       "<div>\n",
       "<style scoped>\n",
       "    .dataframe tbody tr th:only-of-type {\n",
       "        vertical-align: middle;\n",
       "    }\n",
       "\n",
       "    .dataframe tbody tr th {\n",
       "        vertical-align: top;\n",
       "    }\n",
       "\n",
       "    .dataframe thead th {\n",
       "        text-align: right;\n",
       "    }\n",
       "</style>\n",
       "<table border=\"1\" class=\"dataframe\">\n",
       "  <thead>\n",
       "    <tr style=\"text-align: right;\">\n",
       "      <th></th>\n",
       "      <th>Title</th>\n",
       "      <th>PublishTime</th>\n",
       "      <th>Duration_Seconds</th>\n",
       "      <th>ViewCount</th>\n",
       "      <th>LikeCount</th>\n",
       "      <th>CommentCount</th>\n",
       "    </tr>\n",
       "  </thead>\n",
       "  <tbody>\n",
       "    <tr>\n",
       "      <th>0</th>\n",
       "      <td>I Got Hunted By A Real Bounty Hunter</td>\n",
       "      <td>2021-04-24 20:00:00+00:00</td>\n",
       "      <td>861</td>\n",
       "      <td>84717282.0</td>\n",
       "      <td>2876493.0</td>\n",
       "      <td>128922.0</td>\n",
       "    </tr>\n",
       "    <tr>\n",
       "      <th>1</th>\n",
       "      <td>Extreme $1,000,000 Hide And Seek</td>\n",
       "      <td>2021-12-18 21:00:00+00:00</td>\n",
       "      <td>729</td>\n",
       "      <td>32090178.0</td>\n",
       "      <td>2125183.0</td>\n",
       "      <td>73593.0</td>\n",
       "    </tr>\n",
       "    <tr>\n",
       "      <th>3</th>\n",
       "      <td>I Bought The World&amp;#39;s Largest Mystery Box! ...</td>\n",
       "      <td>2021-04-03 20:00:01+00:00</td>\n",
       "      <td>709</td>\n",
       "      <td>101745632.0</td>\n",
       "      <td>3110824.0</td>\n",
       "      <td>162796.0</td>\n",
       "    </tr>\n",
       "    <tr>\n",
       "      <th>4</th>\n",
       "      <td>First To Rob Bank Wins $100,000</td>\n",
       "      <td>2021-09-26 20:00:06+00:00</td>\n",
       "      <td>482</td>\n",
       "      <td>50008942.0</td>\n",
       "      <td>2359606.0</td>\n",
       "      <td>120621.0</td>\n",
       "    </tr>\n",
       "    <tr>\n",
       "      <th>5</th>\n",
       "      <td>Press This Button To Win $100,000!</td>\n",
       "      <td>2020-11-14 21:00:02+00:00</td>\n",
       "      <td>911</td>\n",
       "      <td>145527042.0</td>\n",
       "      <td>2762425.0</td>\n",
       "      <td>83853.0</td>\n",
       "    </tr>\n",
       "    <tr>\n",
       "      <th>6</th>\n",
       "      <td>I Survived 50 Hours In A Maximum Security Prison</td>\n",
       "      <td>2021-06-26 20:00:02+00:00</td>\n",
       "      <td>754</td>\n",
       "      <td>79464833.0</td>\n",
       "      <td>2214006.0</td>\n",
       "      <td>94886.0</td>\n",
       "    </tr>\n",
       "    <tr>\n",
       "      <th>7</th>\n",
       "      <td>I Spent 50 Hours Buried Alive</td>\n",
       "      <td>2021-03-27 20:00:04+00:00</td>\n",
       "      <td>760</td>\n",
       "      <td>154322660.0</td>\n",
       "      <td>5379027.0</td>\n",
       "      <td>233576.0</td>\n",
       "    </tr>\n",
       "    <tr>\n",
       "      <th>8</th>\n",
       "      <td>I Spent 24 Hours In A Doomsday Bunker</td>\n",
       "      <td>2020-04-11 20:00:00+00:00</td>\n",
       "      <td>719</td>\n",
       "      <td>102795467.0</td>\n",
       "      <td>2080395.0</td>\n",
       "      <td>77842.0</td>\n",
       "    </tr>\n",
       "    <tr>\n",
       "      <th>9</th>\n",
       "      <td>I Filled My Brother’s House With Slime &amp;amp; B...</td>\n",
       "      <td>2020-10-10 20:00:31+00:00</td>\n",
       "      <td>625</td>\n",
       "      <td>95079717.0</td>\n",
       "      <td>2612376.0</td>\n",
       "      <td>116266.0</td>\n",
       "    </tr>\n",
       "    <tr>\n",
       "      <th>10</th>\n",
       "      <td>I Got Hunted By The FBI</td>\n",
       "      <td>2021-08-07 23:00:03+00:00</td>\n",
       "      <td>1000</td>\n",
       "      <td>71993932.0</td>\n",
       "      <td>2558283.0</td>\n",
       "      <td>88986.0</td>\n",
       "    </tr>\n",
       "  </tbody>\n",
       "</table>\n",
       "</div>"
      ],
      "text/plain": [
       "                                                Title  \\\n",
       "0                I Got Hunted By A Real Bounty Hunter   \n",
       "1                    Extreme $1,000,000 Hide And Seek   \n",
       "3   I Bought The World&#39;s Largest Mystery Box! ...   \n",
       "4                     First To Rob Bank Wins $100,000   \n",
       "5                  Press This Button To Win $100,000!   \n",
       "6    I Survived 50 Hours In A Maximum Security Prison   \n",
       "7                       I Spent 50 Hours Buried Alive   \n",
       "8               I Spent 24 Hours In A Doomsday Bunker   \n",
       "9   I Filled My Brother’s House With Slime &amp; B...   \n",
       "10                            I Got Hunted By The FBI   \n",
       "\n",
       "                 PublishTime  Duration_Seconds    ViewCount  LikeCount  \\\n",
       "0  2021-04-24 20:00:00+00:00               861   84717282.0  2876493.0   \n",
       "1  2021-12-18 21:00:00+00:00               729   32090178.0  2125183.0   \n",
       "3  2021-04-03 20:00:01+00:00               709  101745632.0  3110824.0   \n",
       "4  2021-09-26 20:00:06+00:00               482   50008942.0  2359606.0   \n",
       "5  2020-11-14 21:00:02+00:00               911  145527042.0  2762425.0   \n",
       "6  2021-06-26 20:00:02+00:00               754   79464833.0  2214006.0   \n",
       "7  2021-03-27 20:00:04+00:00               760  154322660.0  5379027.0   \n",
       "8  2020-04-11 20:00:00+00:00               719  102795467.0  2080395.0   \n",
       "9  2020-10-10 20:00:31+00:00               625   95079717.0  2612376.0   \n",
       "10 2021-08-07 23:00:03+00:00              1000   71993932.0  2558283.0   \n",
       "\n",
       "    CommentCount  \n",
       "0       128922.0  \n",
       "1        73593.0  \n",
       "3       162796.0  \n",
       "4       120621.0  \n",
       "5        83853.0  \n",
       "6        94886.0  \n",
       "7       233576.0  \n",
       "8        77842.0  \n",
       "9       116266.0  \n",
       "10       88986.0  "
      ]
     },
     "execution_count": 10,
     "metadata": {},
     "output_type": "execute_result"
    }
   ],
   "source": [
    "#Checkibg Drop function \n",
    "df.head(10)"
   ]
  },
  {
   "cell_type": "code",
   "execution_count": 11,
   "id": "5401480d-abc9-4c6e-b56b-047c9f25d42f",
   "metadata": {},
   "outputs": [
    {
     "data": {
      "text/plain": [
       "0"
      ]
     },
     "execution_count": 11,
     "metadata": {},
     "output_type": "execute_result"
    }
   ],
   "source": [
    "#Verifying that there are no duplicates\n",
    "df.duplicated().sum()"
   ]
  },
  {
   "cell_type": "code",
   "execution_count": 12,
   "id": "c52a9407-be14-4747-86ff-8951db2e34fa",
   "metadata": {},
   "outputs": [
    {
     "data": {
      "text/html": [
       "<div>\n",
       "<style scoped>\n",
       "    .dataframe tbody tr th:only-of-type {\n",
       "        vertical-align: middle;\n",
       "    }\n",
       "\n",
       "    .dataframe tbody tr th {\n",
       "        vertical-align: top;\n",
       "    }\n",
       "\n",
       "    .dataframe thead th {\n",
       "        text-align: right;\n",
       "    }\n",
       "</style>\n",
       "<table border=\"1\" class=\"dataframe\">\n",
       "  <thead>\n",
       "    <tr style=\"text-align: right;\">\n",
       "      <th></th>\n",
       "      <th>Title</th>\n",
       "      <th>PublishTime</th>\n",
       "      <th>Duration_Seconds</th>\n",
       "      <th>ViewCount</th>\n",
       "      <th>LikeCount</th>\n",
       "      <th>CommentCount</th>\n",
       "    </tr>\n",
       "  </thead>\n",
       "  <tbody>\n",
       "    <tr>\n",
       "      <th>242</th>\n",
       "      <td>Remember When COD Was Fun?</td>\n",
       "      <td>2015-04-26 21:26:36+00:00</td>\n",
       "      <td>216</td>\n",
       "      <td>16312.0</td>\n",
       "      <td>574.0</td>\n",
       "      <td>145.0</td>\n",
       "    </tr>\n",
       "    <tr>\n",
       "      <th>243</th>\n",
       "      <td>Insane Gun Sync - 7 Hours To Make</td>\n",
       "      <td>2015-06-21 12:22:34+00:00</td>\n",
       "      <td>134</td>\n",
       "      <td>15740.0</td>\n",
       "      <td>637.0</td>\n",
       "      <td>105.0</td>\n",
       "    </tr>\n",
       "    <tr>\n",
       "      <th>244</th>\n",
       "      <td>MY MESSAGE TO COD YOUTUBERS (Watch till end plz)</td>\n",
       "      <td>2015-05-29 20:07:48+00:00</td>\n",
       "      <td>292</td>\n",
       "      <td>18502.0</td>\n",
       "      <td>508.0</td>\n",
       "      <td>117.0</td>\n",
       "    </tr>\n",
       "    <tr>\n",
       "      <th>245</th>\n",
       "      <td>L0114R - Biblical Creeper Post for Post @L0114R</td>\n",
       "      <td>2015-05-15 16:48:54+00:00</td>\n",
       "      <td>109</td>\n",
       "      <td>16627.0</td>\n",
       "      <td>430.0</td>\n",
       "      <td>134.0</td>\n",
       "    </tr>\n",
       "    <tr>\n",
       "      <th>246</th>\n",
       "      <td>How Much Money Do You Make As An Uber Driver??...</td>\n",
       "      <td>2015-05-31 18:31:25+00:00</td>\n",
       "      <td>304</td>\n",
       "      <td>18773.0</td>\n",
       "      <td>370.0</td>\n",
       "      <td>59.0</td>\n",
       "    </tr>\n",
       "  </tbody>\n",
       "</table>\n",
       "</div>"
      ],
      "text/plain": [
       "                                                 Title  \\\n",
       "242                         Remember When COD Was Fun?   \n",
       "243                  Insane Gun Sync - 7 Hours To Make   \n",
       "244   MY MESSAGE TO COD YOUTUBERS (Watch till end plz)   \n",
       "245    L0114R - Biblical Creeper Post for Post @L0114R   \n",
       "246  How Much Money Do You Make As An Uber Driver??...   \n",
       "\n",
       "                  PublishTime  Duration_Seconds  ViewCount  LikeCount  \\\n",
       "242 2015-04-26 21:26:36+00:00               216    16312.0      574.0   \n",
       "243 2015-06-21 12:22:34+00:00               134    15740.0      637.0   \n",
       "244 2015-05-29 20:07:48+00:00               292    18502.0      508.0   \n",
       "245 2015-05-15 16:48:54+00:00               109    16627.0      430.0   \n",
       "246 2015-05-31 18:31:25+00:00               304    18773.0      370.0   \n",
       "\n",
       "     CommentCount  \n",
       "242         145.0  \n",
       "243         105.0  \n",
       "244         117.0  \n",
       "245         134.0  \n",
       "246          59.0  "
      ]
     },
     "execution_count": 12,
     "metadata": {},
     "output_type": "execute_result"
    }
   ],
   "source": [
    "#Checking the index. Here the index doesn't match column number. Have to reset index\n",
    "df.tail()"
   ]
  },
  {
   "cell_type": "code",
   "execution_count": 13,
   "id": "5ce94832-c2c2-402e-b105-19b06086bb50",
   "metadata": {},
   "outputs": [],
   "source": [
    "#Resetting Index\n",
    "df=df.reset_index(drop=True)"
   ]
  },
  {
   "cell_type": "code",
   "execution_count": 14,
   "id": "37d5493d-ffa1-4ca4-a349-c22bde8fd3ec",
   "metadata": {},
   "outputs": [
    {
     "data": {
      "text/html": [
       "<div>\n",
       "<style scoped>\n",
       "    .dataframe tbody tr th:only-of-type {\n",
       "        vertical-align: middle;\n",
       "    }\n",
       "\n",
       "    .dataframe tbody tr th {\n",
       "        vertical-align: top;\n",
       "    }\n",
       "\n",
       "    .dataframe thead th {\n",
       "        text-align: right;\n",
       "    }\n",
       "</style>\n",
       "<table border=\"1\" class=\"dataframe\">\n",
       "  <thead>\n",
       "    <tr style=\"text-align: right;\">\n",
       "      <th></th>\n",
       "      <th>Title</th>\n",
       "      <th>PublishTime</th>\n",
       "      <th>Duration_Seconds</th>\n",
       "      <th>ViewCount</th>\n",
       "      <th>LikeCount</th>\n",
       "      <th>CommentCount</th>\n",
       "    </tr>\n",
       "  </thead>\n",
       "  <tbody>\n",
       "    <tr>\n",
       "      <th>206</th>\n",
       "      <td>Remember When COD Was Fun?</td>\n",
       "      <td>2015-04-26 21:26:36+00:00</td>\n",
       "      <td>216</td>\n",
       "      <td>16312.0</td>\n",
       "      <td>574.0</td>\n",
       "      <td>145.0</td>\n",
       "    </tr>\n",
       "    <tr>\n",
       "      <th>207</th>\n",
       "      <td>Insane Gun Sync - 7 Hours To Make</td>\n",
       "      <td>2015-06-21 12:22:34+00:00</td>\n",
       "      <td>134</td>\n",
       "      <td>15740.0</td>\n",
       "      <td>637.0</td>\n",
       "      <td>105.0</td>\n",
       "    </tr>\n",
       "    <tr>\n",
       "      <th>208</th>\n",
       "      <td>MY MESSAGE TO COD YOUTUBERS (Watch till end plz)</td>\n",
       "      <td>2015-05-29 20:07:48+00:00</td>\n",
       "      <td>292</td>\n",
       "      <td>18502.0</td>\n",
       "      <td>508.0</td>\n",
       "      <td>117.0</td>\n",
       "    </tr>\n",
       "    <tr>\n",
       "      <th>209</th>\n",
       "      <td>L0114R - Biblical Creeper Post for Post @L0114R</td>\n",
       "      <td>2015-05-15 16:48:54+00:00</td>\n",
       "      <td>109</td>\n",
       "      <td>16627.0</td>\n",
       "      <td>430.0</td>\n",
       "      <td>134.0</td>\n",
       "    </tr>\n",
       "    <tr>\n",
       "      <th>210</th>\n",
       "      <td>How Much Money Do You Make As An Uber Driver??...</td>\n",
       "      <td>2015-05-31 18:31:25+00:00</td>\n",
       "      <td>304</td>\n",
       "      <td>18773.0</td>\n",
       "      <td>370.0</td>\n",
       "      <td>59.0</td>\n",
       "    </tr>\n",
       "  </tbody>\n",
       "</table>\n",
       "</div>"
      ],
      "text/plain": [
       "                                                 Title  \\\n",
       "206                         Remember When COD Was Fun?   \n",
       "207                  Insane Gun Sync - 7 Hours To Make   \n",
       "208   MY MESSAGE TO COD YOUTUBERS (Watch till end plz)   \n",
       "209    L0114R - Biblical Creeper Post for Post @L0114R   \n",
       "210  How Much Money Do You Make As An Uber Driver??...   \n",
       "\n",
       "                  PublishTime  Duration_Seconds  ViewCount  LikeCount  \\\n",
       "206 2015-04-26 21:26:36+00:00               216    16312.0      574.0   \n",
       "207 2015-06-21 12:22:34+00:00               134    15740.0      637.0   \n",
       "208 2015-05-29 20:07:48+00:00               292    18502.0      508.0   \n",
       "209 2015-05-15 16:48:54+00:00               109    16627.0      430.0   \n",
       "210 2015-05-31 18:31:25+00:00               304    18773.0      370.0   \n",
       "\n",
       "     CommentCount  \n",
       "206         145.0  \n",
       "207         105.0  \n",
       "208         117.0  \n",
       "209         134.0  \n",
       "210          59.0  "
      ]
     },
     "execution_count": 14,
     "metadata": {},
     "output_type": "execute_result"
    }
   ],
   "source": [
    "#check to see if the index is reset\n",
    "df.tail()"
   ]
  },
  {
   "cell_type": "code",
   "execution_count": 15,
   "id": "dc514147-e18c-474f-9a32-9677e0b71506",
   "metadata": {},
   "outputs": [
    {
     "data": {
      "text/plain": [
       "Title               0\n",
       "PublishTime         0\n",
       "Duration_Seconds    0\n",
       "ViewCount           0\n",
       "LikeCount           1\n",
       "CommentCount        1\n",
       "dtype: int64"
      ]
     },
     "execution_count": 15,
     "metadata": {},
     "output_type": "execute_result"
    }
   ],
   "source": [
    "#Checking for NaN \n",
    "df.isna().sum()"
   ]
  },
  {
   "cell_type": "code",
   "execution_count": 16,
   "id": "a627cad4-8a7f-4cca-b07d-6650c939ccfb",
   "metadata": {},
   "outputs": [],
   "source": [
    "#Subtituting NaN with mean\n",
    "df['LikeCount']=df['LikeCount'].fillna(value=df['LikeCount'].mean())\n",
    "df['CommentCount']=df['CommentCount'].fillna(value=df['CommentCount'].mean())"
   ]
  },
  {
   "cell_type": "code",
   "execution_count": 17,
   "id": "1e8dc51f-9937-4f57-858a-5117ef2576c7",
   "metadata": {},
   "outputs": [
    {
     "data": {
      "text/plain": [
       "Title               0\n",
       "PublishTime         0\n",
       "Duration_Seconds    0\n",
       "ViewCount           0\n",
       "LikeCount           0\n",
       "CommentCount        0\n",
       "dtype: int64"
      ]
     },
     "execution_count": 17,
     "metadata": {},
     "output_type": "execute_result"
    }
   ],
   "source": [
    "df.isna().sum()"
   ]
  },
  {
   "cell_type": "code",
   "execution_count": 18,
   "id": "cf05f328-503a-4c5a-8a7c-5fb38dd5a46b",
   "metadata": {},
   "outputs": [
    {
     "data": {
      "text/plain": [
       "Text(0, 0.5, 'Counts')"
      ]
     },
     "execution_count": 18,
     "metadata": {},
     "output_type": "execute_result"
    },
    {
     "data": {
      "image/png": "[encoded data removed]",
      "text/plain": [
       "<Figure size 640x480 with 1 Axes>"
      ]
     },
     "metadata": {},
     "output_type": "display_data"
    }
   ],
   "source": [
    "ax=df[['LikeCount', 'CommentCount']].head(10).plot(kind='bar', title='Relationship Between like count and comment count')\n",
    "ax.set_xlabel('Likes and Comments')\n",
    "ax.set_ylabel('Counts')"
   ]
  },
  {
   "cell_type": "code",
   "execution_count": 25,
   "id": "c6a2c062-28a9-40ee-b1b1-29a81e92257c",
   "metadata": {},
   "outputs": [
    {
     "data": {
      "text/html": [
       "<div>\n",
       "<style scoped>\n",
       "    .dataframe tbody tr th:only-of-type {\n",
       "        vertical-align: middle;\n",
       "    }\n",
       "\n",
       "    .dataframe tbody tr th {\n",
       "        vertical-align: top;\n",
       "    }\n",
       "\n",
       "    .dataframe thead th {\n",
       "        text-align: right;\n",
       "    }\n",
       "</style>\n",
       "<table border=\"1\" class=\"dataframe\">\n",
       "  <thead>\n",
       "    <tr style=\"text-align: right;\">\n",
       "      <th></th>\n",
       "      <th>Title</th>\n",
       "      <th>PublishTime</th>\n",
       "      <th>Duration_Seconds</th>\n",
       "      <th>ViewCount</th>\n",
       "      <th>LikeCount</th>\n",
       "      <th>CommentCount</th>\n",
       "    </tr>\n",
       "  </thead>\n",
       "  <tbody>\n",
       "    <tr>\n",
       "      <th>0</th>\n",
       "      <td>I Got Hunted By A Real Bounty Hunter</td>\n",
       "      <td>2021-04-24 20:00:00+00:00</td>\n",
       "      <td>861</td>\n",
       "      <td>84717282.0</td>\n",
       "      <td>2876493.0</td>\n",
       "      <td>128922.0</td>\n",
       "    </tr>\n",
       "    <tr>\n",
       "      <th>1</th>\n",
       "      <td>Extreme $1,000,000 Hide And Seek</td>\n",
       "      <td>2021-12-18 21:00:00+00:00</td>\n",
       "      <td>729</td>\n",
       "      <td>32090178.0</td>\n",
       "      <td>2125183.0</td>\n",
       "      <td>73593.0</td>\n",
       "    </tr>\n",
       "    <tr>\n",
       "      <th>2</th>\n",
       "      <td>I Bought The World&amp;#39;s Largest Mystery Box! ...</td>\n",
       "      <td>2021-04-03 20:00:01+00:00</td>\n",
       "      <td>709</td>\n",
       "      <td>101745632.0</td>\n",
       "      <td>3110824.0</td>\n",
       "      <td>162796.0</td>\n",
       "    </tr>\n",
       "    <tr>\n",
       "      <th>3</th>\n",
       "      <td>First To Rob Bank Wins $100,000</td>\n",
       "      <td>2021-09-26 20:00:06+00:00</td>\n",
       "      <td>482</td>\n",
       "      <td>50008942.0</td>\n",
       "      <td>2359606.0</td>\n",
       "      <td>120621.0</td>\n",
       "    </tr>\n",
       "    <tr>\n",
       "      <th>4</th>\n",
       "      <td>Press This Button To Win $100,000!</td>\n",
       "      <td>2020-11-14 21:00:02+00:00</td>\n",
       "      <td>911</td>\n",
       "      <td>145527042.0</td>\n",
       "      <td>2762425.0</td>\n",
       "      <td>83853.0</td>\n",
       "    </tr>\n",
       "  </tbody>\n",
       "</table>\n",
       "</div>"
      ],
      "text/plain": [
       "                                               Title  \\\n",
       "0               I Got Hunted By A Real Bounty Hunter   \n",
       "1                   Extreme $1,000,000 Hide And Seek   \n",
       "2  I Bought The World&#39;s Largest Mystery Box! ...   \n",
       "3                    First To Rob Bank Wins $100,000   \n",
       "4                 Press This Button To Win $100,000!   \n",
       "\n",
       "                PublishTime  Duration_Seconds    ViewCount  LikeCount  \\\n",
       "0 2021-04-24 20:00:00+00:00               861   84717282.0  2876493.0   \n",
       "1 2021-12-18 21:00:00+00:00               729   32090178.0  2125183.0   \n",
       "2 2021-04-03 20:00:01+00:00               709  101745632.0  3110824.0   \n",
       "3 2021-09-26 20:00:06+00:00               482   50008942.0  2359606.0   \n",
       "4 2020-11-14 21:00:02+00:00               911  145527042.0  2762425.0   \n",
       "\n",
       "   CommentCount  \n",
       "0      128922.0  \n",
       "1       73593.0  \n",
       "2      162796.0  \n",
       "3      120621.0  \n",
       "4       83853.0  "
      ]
     },
     "execution_count": 25,
     "metadata": {},
     "output_type": "execute_result"
    }
   ],
   "source": [
    "df.head()"
   ]
  },
  {
   "cell_type": "code",
   "execution_count": 30,
   "id": "8b7adb43-b12f-4967-88a7-ad131a16209a",
   "metadata": {},
   "outputs": [
    {
     "data": {
      "text/plain": [
       "<Axes: xlabel='Duration_Seconds', ylabel='CommentCount'>"
      ]
     },
     "execution_count": 30,
     "metadata": {},
     "output_type": "execute_result"
    },
    {
     "data": {
      "image/png": "[encoded data removed]",
      "text/plain": [
       "<Figure size 640x480 with 1 Axes>"
      ]
     },
     "metadata": {},
     "output_type": "display_data"
    }
   ],
   "source": [
    "sns.scatterplot( x='Duration_Seconds', y='CommentCount', data=df)"
   ]
  }
 ],
 "metadata": {
  "kernelspec": {
   "display_name": "Python 3 (ipykernel)",
   "language": "python",
   "name": "python3"
  },
  "language_info": {
   "codemirror_mode": {
    "name": "ipython",
    "version": 3
   },
   "file_extension": ".py",
   "mimetype": "text/x-python",
   "name": "python",
   "nbconvert_exporter": "python",
   "pygments_lexer": "ipython3",
   "version": "3.12.1"
  }
 },
 "nbformat": 4,
 "nbformat_minor": 5
}
